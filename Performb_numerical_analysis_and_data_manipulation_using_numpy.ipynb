{
  "nbformat": 4,
  "nbformat_minor": 0,
  "metadata": {
    "colab": {
      "provenance": []
    },
    "kernelspec": {
      "name": "python3",
      "display_name": "Python 3"
    },
    "language_info": {
      "name": "python"
    }
  },
  "cells": [
    {
      "cell_type": "markdown",
      "source": [
        "1) Create a Numpy array"
      ],
      "metadata": {
        "id": "YlVHJ3daO2zv"
      }
    },
    {
      "cell_type": "code",
      "source": [
        "import numpy as np\n",
        "arr1=np.array([1,2,3])\n",
        "print(arr1)"
      ],
      "metadata": {
        "colab": {
          "base_uri": "https://localhost:8080/"
        },
        "id": "uoSbPTsNO7pX",
        "outputId": "eae3b8e7-e954-4466-8006-52b509b67ca2"
      },
      "execution_count": null,
      "outputs": [
        {
          "output_type": "stream",
          "name": "stdout",
          "text": [
            "[1 2 3]\n"
          ]
        }
      ]
    },
    {
      "cell_type": "markdown",
      "source": [
        "2)Access and manipulated elements in the array"
      ],
      "metadata": {
        "id": "pOH66ZnWPuDg"
      }
    },
    {
      "cell_type": "code",
      "source": [
        "#accessing element from the array\n",
        "arr1[2]"
      ],
      "metadata": {
        "colab": {
          "base_uri": "https://localhost:8080/"
        },
        "id": "zACDbZuFP6b_",
        "outputId": "0adc6b69-935e-4481-c15a-0c55171c2291"
      },
      "execution_count": null,
      "outputs": [
        {
          "output_type": "execute_result",
          "data": {
            "text/plain": [
              "3"
            ]
          },
          "metadata": {},
          "execution_count": 4
        }
      ]
    },
    {
      "cell_type": "code",
      "source": [
        "#change an element from the array \n",
        "arr1[2]=6\n",
        "arr1\n"
      ],
      "metadata": {
        "colab": {
          "base_uri": "https://localhost:8080/"
        },
        "id": "ZRsCwuMzQI2n",
        "outputId": "7babbae8-50e6-4794-868e-e625dd784544"
      },
      "execution_count": null,
      "outputs": [
        {
          "output_type": "execute_result",
          "data": {
            "text/plain": [
              "array([1, 2, 6])"
            ]
          },
          "metadata": {},
          "execution_count": 7
        }
      ]
    },
    {
      "cell_type": "markdown",
      "source": [
        "3) Create 2 dimensional array and check the shape of the array"
      ],
      "metadata": {
        "id": "HVLeeOABQshv"
      }
    },
    {
      "cell_type": "code",
      "source": [
        "#create a 2d array\n",
        "arr2=np.array([[1,2,3],[4,5,6]])\n",
        "print(arr2)"
      ],
      "metadata": {
        "colab": {
          "base_uri": "https://localhost:8080/"
        },
        "id": "2DH1nX48RDTq",
        "outputId": "ff742b5e-f309-4db7-86f9-950395b9cd2d"
      },
      "execution_count": null,
      "outputs": [
        {
          "output_type": "stream",
          "name": "stdout",
          "text": [
            "[[1 2 3]\n",
            " [4 5 6]]\n"
          ]
        }
      ]
    },
    {
      "cell_type": "markdown",
      "source": [
        "4) Access elments from the 2D array using index positions"
      ],
      "metadata": {
        "id": "nMPDRoMsR0uv"
      }
    },
    {
      "cell_type": "code",
      "source": [
        "#Acessing elements from the array\n",
        "print(arr2 [0][2])\n",
        "print(arr2[0,2])\n",
        "print(arr2[0,-1])\n",
        "print(arr2[-1,0])"
      ],
      "metadata": {
        "colab": {
          "base_uri": "https://localhost:8080/"
        },
        "id": "C2C5VGKcR-O4",
        "outputId": "f588c085-5f07-46af-e652-e7dc43fc96b3"
      },
      "execution_count": null,
      "outputs": [
        {
          "output_type": "stream",
          "name": "stdout",
          "text": [
            "3\n",
            "3\n",
            "3\n",
            "4\n"
          ]
        }
      ]
    },
    {
      "cell_type": "markdown",
      "source": [
        "5)Create an Array of the type String\n"
      ],
      "metadata": {
        "id": "HKOgwqYeSwB4"
      }
    },
    {
      "cell_type": "code",
      "source": [
        "#Array of type String\n",
        "arr3=np.array(['India','China','USA','Mexico'])\n",
        "print(arr3)"
      ],
      "metadata": {
        "colab": {
          "base_uri": "https://localhost:8080/"
        },
        "id": "39Hlb1sdTWrZ",
        "outputId": "f8665a1a-082f-4229-8eb6-7d5a98696986"
      },
      "execution_count": null,
      "outputs": [
        {
          "output_type": "stream",
          "name": "stdout",
          "text": [
            "['India' 'China' 'USA' 'Mexico']\n"
          ]
        }
      ]
    },
    {
      "cell_type": "code",
      "source": [
        "arr3[1]"
      ],
      "metadata": {
        "colab": {
          "base_uri": "https://localhost:8080/",
          "height": 35
        },
        "id": "CTf5qBZ0Tz1w",
        "outputId": "54a8b5b4-05a1-45e1-fa2d-4049c13e73f9"
      },
      "execution_count": null,
      "outputs": [
        {
          "output_type": "execute_result",
          "data": {
            "text/plain": [
              "'China'"
            ],
            "application/vnd.google.colaboratory.intrinsic+json": {
              "type": "string"
            }
          },
          "metadata": {},
          "execution_count": 17
        }
      ]
    },
    {
      "cell_type": "markdown",
      "source": [
        "6) Using the arrange() and inspace() function to evenly space values in a specified interval"
      ],
      "metadata": {
        "id": "GWJRZaTXUErI"
      }
    },
    {
      "cell_type": "code",
      "source": [
        "\n",
        "#array of events spaced in a specified interval\n",
        "arr=np.arange(0,20,2)\n",
        "print(arr)"
      ],
      "metadata": {
        "colab": {
          "base_uri": "https://localhost:8080/"
        },
        "id": "AuWpdImYVq7f",
        "outputId": "ae48f642-11bb-4a10-f7a6-452c37ff5a85"
      },
      "execution_count": null,
      "outputs": [
        {
          "output_type": "stream",
          "name": "stdout",
          "text": [
            "[ 0  2  4  6  8 10 12 14 16 18]\n"
          ]
        }
      ]
    },
    {
      "cell_type": "code",
      "source": [
        "#Array of evenly spaced number in specified interval\n",
        "arr=np.linspace(0,10,20)\n",
        "print(arr)"
      ],
      "metadata": {
        "colab": {
          "base_uri": "https://localhost:8080/"
        },
        "id": "ZKVGug8WWC0v",
        "outputId": "4a9a723c-0a77-4ca7-ba98-22b1c17985c6"
      },
      "execution_count": null,
      "outputs": [
        {
          "output_type": "stream",
          "name": "stdout",
          "text": [
            "[ 0.          0.52631579  1.05263158  1.57894737  2.10526316  2.63157895\n",
            "  3.15789474  3.68421053  4.21052632  4.73684211  5.26315789  5.78947368\n",
            "  6.31578947  6.84210526  7.36842105  7.89473684  8.42105263  8.94736842\n",
            "  9.47368421 10.        ]\n"
          ]
        }
      ]
    },
    {
      "cell_type": "markdown",
      "source": [
        "7)Create an array of random values  between 0 & 1 in a given shape"
      ],
      "metadata": {
        "id": "2xZFmnXgXBlQ"
      }
    },
    {
      "cell_type": "code",
      "source": [
        "#Array of random values between 0 & 1 in a shape \n",
        "arr=np.random.rand(10)\n",
        "print(arr)\n",
        "print('\\n')\n",
        "arr=np.random.rand(3,4)\n",
        "print(arr)"
      ],
      "metadata": {
        "colab": {
          "base_uri": "https://localhost:8080/"
        },
        "id": "ggPTRpkdXQmF",
        "outputId": "600fda27-7505-48a0-f348-d1ae938275df"
      },
      "execution_count": null,
      "outputs": [
        {
          "output_type": "stream",
          "name": "stdout",
          "text": [
            "[0.60126763 0.14514082 0.54080688 0.24735322 0.27131042 0.26038702\n",
            " 0.38626394 0.18645157 0.13692119 0.65115748]\n",
            "\n",
            "\n",
            "[[0.91936564 0.41851258 0.61060037 0.0848881 ]\n",
            " [0.78016389 0.69773356 0.15052515 0.02202139]\n",
            " [0.55070461 0.67894108 0.32101487 0.06677591]]\n"
          ]
        }
      ]
    },
    {
      "cell_type": "markdown",
      "source": [
        "8)Create an array of constant in a given shape "
      ],
      "metadata": {
        "id": "imlztz2HX4tg"
      }
    },
    {
      "cell_type": "code",
      "source": [
        "#array of constant in a given shape\n",
        "print(np.full((4,6),10))"
      ],
      "metadata": {
        "colab": {
          "base_uri": "https://localhost:8080/"
        },
        "id": "EqPe2ud9X-2P",
        "outputId": "0e9b3e0f-4268-4447-e1a5-54d76b3814f6"
      },
      "execution_count": null,
      "outputs": [
        {
          "output_type": "stream",
          "name": "stdout",
          "text": [
            "[[10 10 10 10 10 10]\n",
            " [10 10 10 10 10 10]\n",
            " [10 10 10 10 10 10]\n",
            " [10 10 10 10 10 10]]\n"
          ]
        }
      ]
    },
    {
      "cell_type": "markdown",
      "source": [
        "9)Repeat each element of an array by a specified no. of time using repeat() & tile()function\n"
      ],
      "metadata": {
        "id": "stjZMqlTYTj4"
      }
    },
    {
      "cell_type": "code",
      "source": [
        "#create an array by repetetion\n",
        "#repeat each element\n",
        "arr=[0,1,2]\n",
        "print(np.repeat(arr,3))"
      ],
      "metadata": {
        "colab": {
          "base_uri": "https://localhost:8080/"
        },
        "id": "ylLo-7CCYyvo",
        "outputId": "24257bf6-276e-44dd-a93b-8363a11acd8c"
      },
      "execution_count": null,
      "outputs": [
        {
          "output_type": "stream",
          "name": "stdout",
          "text": [
            "[0 0 0 1 1 1 2 2 2]\n"
          ]
        }
      ]
    },
    {
      "cell_type": "code",
      "source": [
        "#repeat an array by a specified no.of times \n",
        "arr=[0,1,2]\n",
        "print(np.tile(arr,3))"
      ],
      "metadata": {
        "colab": {
          "base_uri": "https://localhost:8080/"
        },
        "id": "zHXdHifkZNyA",
        "outputId": "0d893cbb-97d7-4e8e-bc1b-8c1144223f2b"
      },
      "execution_count": null,
      "outputs": [
        {
          "output_type": "stream",
          "name": "stdout",
          "text": [
            "[0 1 2 0 1 2 0 1 2]\n"
          ]
        }
      ]
    },
    {
      "cell_type": "markdown",
      "source": [
        "10)create an identity matrix using eye() and identity() function\n"
      ],
      "metadata": {
        "id": "hJpUqYZwZjOf"
      }
    },
    {
      "cell_type": "code",
      "source": [
        "#create an identity matrix\n",
        "identity_matrix=np.eye(3)\n",
        "print(identity_matrix)"
      ],
      "metadata": {
        "colab": {
          "base_uri": "https://localhost:8080/"
        },
        "id": "_3Y3p2jEZslr",
        "outputId": "ef8dbfe2-0fcc-47f9-e453-3075676d5ef5"
      },
      "execution_count": null,
      "outputs": [
        {
          "output_type": "stream",
          "name": "stdout",
          "text": [
            "[[1. 0. 0.]\n",
            " [0. 1. 0.]\n",
            " [0. 0. 1.]]\n"
          ]
        }
      ]
    },
    {
      "cell_type": "code",
      "source": [
        "identity_matrix=np.identity(3)\n",
        "print(identity_matrix)"
      ],
      "metadata": {
        "colab": {
          "base_uri": "https://localhost:8080/"
        },
        "id": "jrgkkVd4aNmX",
        "outputId": "8f9f79fb-ed2c-475e-d220-c13ccd0856dd"
      },
      "execution_count": null,
      "outputs": [
        {
          "output_type": "stream",
          "name": "stdout",
          "text": [
            "[[1. 0. 0.]\n",
            " [0. 1. 0.]\n",
            " [0. 0. 1.]]\n"
          ]
        }
      ]
    },
    {
      "cell_type": "markdown",
      "source": [
        "11) create a 5X5 2D array for random number between 0 & 1\n"
      ],
      "metadata": {
        "id": "QWTdemdUafAv"
      }
    },
    {
      "cell_type": "code",
      "source": [
        "arr=np.random.rand(5,5)\n",
        "print(arr)"
      ],
      "metadata": {
        "colab": {
          "base_uri": "https://localhost:8080/"
        },
        "id": "DdZk0Yf0arP3",
        "outputId": "c2ff0e99-1d4a-4e7a-e81d-a4febd4ad8a7"
      },
      "execution_count": null,
      "outputs": [
        {
          "output_type": "stream",
          "name": "stdout",
          "text": [
            "[[0.84898951 0.5826887  0.6765025  0.92182845 0.68651401]\n",
            " [0.51237014 0.4634848  0.5725569  0.19902274 0.5735808 ]\n",
            " [0.28575459 0.19924849 0.81179643 0.99511703 0.37899055]\n",
            " [0.14941157 0.37702895 0.14196667 0.38024536 0.72583141]\n",
            " [0.50850983 0.02354193 0.03095325 0.48211004 0.28430137]]\n"
          ]
        }
      ]
    },
    {
      "cell_type": "markdown",
      "source": [
        "12) Sum an array along the row"
      ],
      "metadata": {
        "id": "-fb_0YF7a8B3"
      }
    },
    {
      "cell_type": "code",
      "source": [
        "#sum along the row\n",
        "print(np.sum(arr,axis=0))"
      ],
      "metadata": {
        "colab": {
          "base_uri": "https://localhost:8080/"
        },
        "id": "cjnhXM1nbFuG",
        "outputId": "2ed2b8d4-947a-4586-d485-68e6ab69e86a"
      },
      "execution_count": null,
      "outputs": [
        {
          "output_type": "stream",
          "name": "stdout",
          "text": [
            "[2.30503564 1.64599287 2.23377575 2.97832362 2.64921813]\n"
          ]
        }
      ]
    },
    {
      "cell_type": "markdown",
      "source": [
        "13) sum an array along row\n"
      ],
      "metadata": {
        "id": "ARgJscQybhW_"
      }
    },
    {
      "cell_type": "code",
      "source": [
        "#sum along the row\n",
        "print(np.sum(arr,axis=1))"
      ],
      "metadata": {
        "colab": {
          "base_uri": "https://localhost:8080/"
        },
        "id": "oerKzUv2bnCg",
        "outputId": "a0db3034-5beb-4702-93ed-f2c64227baa6"
      },
      "execution_count": null,
      "outputs": [
        {
          "output_type": "stream",
          "name": "stdout",
          "text": [
            "[3.71652317 2.32101538 2.67090709 1.77448396 1.32941641]\n"
          ]
        }
      ]
    },
    {
      "cell_type": "markdown",
      "source": [
        "14)Calculate the mean ,median,standard deviation and variance"
      ],
      "metadata": {
        "id": "mB5KqWzIcO8Q"
      }
    },
    {
      "cell_type": "code",
      "source": [
        "print(np.mean(arr))\n",
        "print(np.median(arr))\n",
        "print(np.std(arr))\n",
        "print(np.var(arr))"
      ],
      "metadata": {
        "colab": {
          "base_uri": "https://localhost:8080/"
        },
        "id": "WRtNhJbxceL3",
        "outputId": "e047173e-b64d-441b-9d8f-7fa23173f1b6"
      },
      "execution_count": null,
      "outputs": [
        {
          "output_type": "stream",
          "name": "stdout",
          "text": [
            "0.4724938405267137\n",
            "0.48211003767081084\n",
            "0.2664733236927375\n",
            "0.07100803223985447\n"
          ]
        }
      ]
    },
    {
      "cell_type": "markdown",
      "source": [
        "15) Sort an array along the row using the sort() function\n"
      ],
      "metadata": {
        "id": "ZGhZ01Hrc2wH"
      }
    },
    {
      "cell_type": "code",
      "source": [
        "#sort an array\n",
        "arr=np.random.rand(5,5)\n",
        "print(arr)"
      ],
      "metadata": {
        "colab": {
          "base_uri": "https://localhost:8080/"
        },
        "id": "nKjWrDMjc_iX",
        "outputId": "2fcaffc3-7358-4d43-ff9a-79b0f52babf3"
      },
      "execution_count": null,
      "outputs": [
        {
          "output_type": "stream",
          "name": "stdout",
          "text": [
            "[[0.68465734 0.64995294 0.93856699 0.44213859 0.26293833]\n",
            " [0.92738528 0.98339578 0.94408127 0.10804011 0.69233612]\n",
            " [0.75104134 0.08116805 0.44836576 0.71075545 0.70989592]\n",
            " [0.07392673 0.19902037 0.60968691 0.44197431 0.03992351]\n",
            " [0.02983814 0.48407779 0.94675881 0.90279496 0.07233772]]\n"
          ]
        }
      ]
    },
    {
      "cell_type": "code",
      "source": [
        "#sort along the row\n",
        "print(np.sort(arr,axis=1))"
      ],
      "metadata": {
        "colab": {
          "base_uri": "https://localhost:8080/"
        },
        "id": "4kWzcj7hdNs_",
        "outputId": "9ed058d7-248b-4059-dcb7-69736f795ab3"
      },
      "execution_count": null,
      "outputs": [
        {
          "output_type": "stream",
          "name": "stdout",
          "text": [
            "[[0.26293833 0.44213859 0.64995294 0.68465734 0.93856699]\n",
            " [0.10804011 0.69233612 0.92738528 0.94408127 0.98339578]\n",
            " [0.08116805 0.44836576 0.70989592 0.71075545 0.75104134]\n",
            " [0.03992351 0.07392673 0.19902037 0.44197431 0.60968691]\n",
            " [0.02983814 0.07233772 0.48407779 0.90279496 0.94675881]]\n"
          ]
        }
      ]
    },
    {
      "cell_type": "markdown",
      "source": [
        "16) Append element to an arrayusing the append function"
      ],
      "metadata": {
        "id": "rYcabFLjdd6v"
      }
    },
    {
      "cell_type": "code",
      "source": [
        "#append element to an array\n",
        "arr=np.array([4,5,6,7])\n",
        "arr1=np.append(arr,8)\n",
        "arr1"
      ],
      "metadata": {
        "colab": {
          "base_uri": "https://localhost:8080/"
        },
        "id": "3g_-LlmQdlvo",
        "outputId": "9e528485-0bf7-43e9-c644-b9715c6675fd"
      },
      "execution_count": null,
      "outputs": [
        {
          "output_type": "execute_result",
          "data": {
            "text/plain": [
              "array([4, 5, 6, 7, 8])"
            ]
          },
          "metadata": {},
          "execution_count": 39
        }
      ]
    },
    {
      "cell_type": "code",
      "source": [
        "arr2=np.append(arr,[9,10,11])\n",
        "print(arr2)"
      ],
      "metadata": {
        "colab": {
          "base_uri": "https://localhost:8080/"
        },
        "id": "QTVUInP_d7Uf",
        "outputId": "4723c463-583e-409f-9833-bf60c7d44da1"
      },
      "execution_count": null,
      "outputs": [
        {
          "output_type": "stream",
          "name": "stdout",
          "text": [
            "[ 4  5  6  7  9 10 11]\n"
          ]
        }
      ]
    },
    {
      "cell_type": "markdown",
      "source": [
        "17)delete multiple elements in an array"
      ],
      "metadata": {
        "id": "s8uD4vyiekp3"
      }
    },
    {
      "cell_type": "code",
      "source": [
        "#delete multiply elements\n",
        "arr2=np.array([4,5,6,7,8,9,10,11])\n",
        "print(arr2)\n",
        "print(\"\\n\")\n",
        "arr5=np.delete(arr2,[1,4])\n",
        "print(arr5)"
      ],
      "metadata": {
        "colab": {
          "base_uri": "https://localhost:8080/"
        },
        "id": "GRRBtuHgequ3",
        "outputId": "f123e993-90d6-4501-e735-4446af72f730"
      },
      "execution_count": null,
      "outputs": [
        {
          "output_type": "stream",
          "name": "stdout",
          "text": [
            "[ 4  5  6  7  8  9 10 11]\n",
            "\n",
            "\n",
            "[ 4  6  7  9 10 11]\n"
          ]
        }
      ]
    },
    {
      "cell_type": "markdown",
      "source": [
        "18.Concatenate element from 2 array"
      ],
      "metadata": {
        "id": "YlgQZqqqfS_u"
      }
    },
    {
      "cell_type": "code",
      "source": [
        "#combine and split an array\n",
        "arr1=np.array([[1,2,3,4],[1,2,3,4]])\n",
        "arr2=np.array([[5,6,7,8],[5,6,7,8]])\n",
        "cat=np.concatenate((arr1,arr2),axis=0)\n",
        "print(cat)"
      ],
      "metadata": {
        "colab": {
          "base_uri": "https://localhost:8080/"
        },
        "id": "Ma5s8hhBfa93",
        "outputId": "c2ddea8e-4cf2-4f79-cccf-559e281fb175"
      },
      "execution_count": null,
      "outputs": [
        {
          "output_type": "stream",
          "name": "stdout",
          "text": [
            "[[1 2 3 4]\n",
            " [1 2 3 4]\n",
            " [5 6 7 8]\n",
            " [5 6 7 8]]\n"
          ]
        }
      ]
    },
    {
      "cell_type": "code",
      "source": [
        "cat=np.concatenate((arr1,arr2),axis=1)\n",
        "print(cat)"
      ],
      "metadata": {
        "colab": {
          "base_uri": "https://localhost:8080/"
        },
        "id": "3QOuF-NpgVmx",
        "outputId": "48e80d4b-037f-46ba-efc7-b1aab5459ef2"
      },
      "execution_count": null,
      "outputs": [
        {
          "output_type": "stream",
          "name": "stdout",
          "text": [
            "[[1 2 3 4 5 6 7 8]\n",
            " [1 2 3 4 5 6 7 8]]\n"
          ]
        }
      ]
    },
    {
      "cell_type": "markdown",
      "source": [],
      "metadata": {
        "id": "yohETD4og24v"
      }
    }
  ]
}