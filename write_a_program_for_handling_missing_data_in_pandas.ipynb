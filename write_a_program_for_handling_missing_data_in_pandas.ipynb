{
  "nbformat": 4,
  "nbformat_minor": 0,
  "metadata": {
    "colab": {
      "provenance": [],
      "authorship_tag": "ABX9TyN2NQCGlhKGAzz+mqZCswKw",
      "include_colab_link": true
    },
    "kernelspec": {
      "name": "python3",
      "display_name": "Python 3"
    },
    "language_info": {
      "name": "python"
    }
  },
  "cells": [
    {
      "cell_type": "markdown",
      "metadata": {
        "id": "view-in-github",
        "colab_type": "text"
      },
      "source": [
        "<a href=\"https://colab.research.google.com/github/22vinitha/DATA-SCIENCE/blob/main/write_a_program_for_handling_missing_data_in_pandas.ipynb\" target=\"_parent\"><img src=\"https://colab.research.google.com/assets/colab-badge.svg\" alt=\"Open In Colab\"/></a>"
      ]
    },
    {
      "cell_type": "code",
      "source": [
        "from google.colab import drive\n",
        "drive.mount('/content/drive')"
      ],
      "metadata": {
        "colab": {
          "base_uri": "https://localhost:8080/"
        },
        "id": "JkwYB534c1kw",
        "outputId": "57db68d0-20bc-4dd1-82ac-351f9ca9f96a"
      },
      "execution_count": 1,
      "outputs": [
        {
          "output_type": "stream",
          "name": "stdout",
          "text": [
            "Mounted at /content/drive\n"
          ]
        }
      ]
    },
    {
      "cell_type": "markdown",
      "source": [
        "calculation with missing data"
      ],
      "metadata": {
        "id": "FYx4mChDdUvX"
      }
    },
    {
      "cell_type": "code",
      "source": [
        "import pandas as pd\n",
        "import numpy as np\n",
        "\n",
        "array = np.array([3,np.nan,0,4,np.nan])\n",
        "print(array)"
      ],
      "metadata": {
        "colab": {
          "base_uri": "https://localhost:8080/"
        },
        "id": "u1Ys53Fhdgf_",
        "outputId": "3b6cef50-f811-42b3-b531-c6ebf73a4840"
      },
      "execution_count": 4,
      "outputs": [
        {
          "output_type": "stream",
          "name": "stdout",
          "text": [
            "[ 3. nan  0.  4. nan]\n"
          ]
        }
      ]
    },
    {
      "cell_type": "markdown",
      "source": [
        "**cleaning Missing data**"
      ],
      "metadata": {
        "id": "b0am65Ozej3J"
      }
    },
    {
      "cell_type": "code",
      "source": [
        "data_string = '''ID,Gender,Salary,Country,Company\n",
        "1,Male,15000,India,Google\n",
        "2,Female,45000,China,NaN\n",
        "3,Female,25000,India,Google\n",
        "4,NaN,NaN,Australia,Google\n",
        "5,Male,NaN,India,Google\n",
        "6,Male,54000,NaN,Alibaba\n",
        "7,NaN,74000,China,NaN\n",
        "8,Male,14000,Australia,NaN\n",
        "9,Female,15000,NaN,NaN\n",
        "10,Male,33000,Australia,NaN'''\n",
        "\n",
        "with open('salary.csv', 'w') as out:\n",
        "    out.write(data_string)\n",
        "\n",
        "df=pd.read_csv('/content/salary.csv')\n",
        "print('salary dataset:\\n',df)"
      ],
      "metadata": {
        "colab": {
          "base_uri": "https://localhost:8080/"
        },
        "id": "JEnG3n2venc3",
        "outputId": "f6e6d573-6cb1-418b-b0df-69c8dce2d02d"
      },
      "execution_count": 7,
      "outputs": [
        {
          "output_type": "stream",
          "name": "stdout",
          "text": [
            "salary dataset:\n",
            "    ID  Gender   Salary    Country  Company\n",
            "0   1    Male  15000.0      India   Google\n",
            "1   2  Female  45000.0      China      NaN\n",
            "2   3  Female  25000.0      India   Google\n",
            "3   4     NaN      NaN  Australia   Google\n",
            "4   5    Male      NaN      India   Google\n",
            "5   6    Male  54000.0        NaN  Alibaba\n",
            "6   7     NaN  74000.0      China      NaN\n",
            "7   8    Male  14000.0  Australia      NaN\n",
            "8   9  Female  15000.0        NaN      NaN\n",
            "9  10    Male  33000.0  Australia      NaN\n"
          ]
        }
      ]
    },
    {
      "cell_type": "markdown",
      "source": [
        "**CHECK FOR MISSING DATA**"
      ],
      "metadata": {
        "id": "euPRt2ZRoP5W"
      }
    },
    {
      "cell_type": "code",
      "source": [
        "print('Missing Data\\n', df.isna())\n",
        "\n",
        "print('Missing Data\\n', df.isnull())\n",
        "\n",
        "# Print only missing data\n",
        "print('Filter based on columns: \\n', df[df.isnull().any(axis=1)]) \n",
        "\n",
        "# Sum up the missing values\n",
        "print('Sum up the missing values: \\n', df.isnull().sum())"
      ],
      "metadata": {
        "colab": {
          "base_uri": "https://localhost:8080/"
        },
        "id": "o71OmxCzoT1o",
        "outputId": "9e1c4cae-bb9d-49d9-b299-960d54a3d058"
      },
      "execution_count": 8,
      "outputs": [
        {
          "output_type": "stream",
          "name": "stdout",
          "text": [
            "Missing Data\n",
            "       ID  Gender  Salary  Country  Company\n",
            "0  False   False   False    False    False\n",
            "1  False   False   False    False     True\n",
            "2  False   False   False    False    False\n",
            "3  False    True    True    False    False\n",
            "4  False   False    True    False    False\n",
            "5  False   False   False     True    False\n",
            "6  False    True   False    False     True\n",
            "7  False   False   False    False     True\n",
            "8  False   False   False     True     True\n",
            "9  False   False   False    False     True\n",
            "Missing Data\n",
            "       ID  Gender  Salary  Country  Company\n",
            "0  False   False   False    False    False\n",
            "1  False   False   False    False     True\n",
            "2  False   False   False    False    False\n",
            "3  False    True    True    False    False\n",
            "4  False   False    True    False    False\n",
            "5  False   False   False     True    False\n",
            "6  False    True   False    False     True\n",
            "7  False   False   False    False     True\n",
            "8  False   False   False     True     True\n",
            "9  False   False   False    False     True\n",
            "Filter based on columns: \n",
            "    ID  Gender   Salary    Country  Company\n",
            "1   2  Female  45000.0      China      NaN\n",
            "3   4     NaN      NaN  Australia   Google\n",
            "4   5    Male      NaN      India   Google\n",
            "5   6    Male  54000.0        NaN  Alibaba\n",
            "6   7     NaN  74000.0      China      NaN\n",
            "7   8    Male  14000.0  Australia      NaN\n",
            "8   9  Female  15000.0        NaN      NaN\n",
            "9  10    Male  33000.0  Australia      NaN\n",
            "Sum up the missing values: \n",
            " ID         0\n",
            "Gender     2\n",
            "Salary     2\n",
            "Country    2\n",
            "Company    5\n",
            "dtype: int64\n"
          ]
        }
      ]
    },
    {
      "cell_type": "markdown",
      "source": [
        "**DROPPING MISSING DATA**"
      ],
      "metadata": {
        "id": "VUmvfPido5dm"
      }
    },
    {
      "cell_type": "code",
      "source": [
        "df.dropna(inplace=True)\n",
        "print(df)"
      ],
      "metadata": {
        "colab": {
          "base_uri": "https://localhost:8080/"
        },
        "id": "EBVL3nCgo8iO",
        "outputId": "1529940c-df7a-41bc-fc37-06d37f3c2add"
      },
      "execution_count": 9,
      "outputs": [
        {
          "output_type": "stream",
          "name": "stdout",
          "text": [
            "   ID  Gender   Salary Country Company\n",
            "0   1    Male  15000.0   India  Google\n",
            "2   3  Female  25000.0   India  Google\n"
          ]
        }
      ]
    },
    {
      "cell_type": "markdown",
      "source": [
        "**REPLACING MISSING DATA**"
      ],
      "metadata": {
        "id": "FxFQtYispMWm"
      }
    },
    {
      "cell_type": "code",
      "source": [
        "df[\"Salary\"].fillna(20000, inplace=True)\n",
        "print(df)"
      ],
      "metadata": {
        "colab": {
          "base_uri": "https://localhost:8080/"
        },
        "id": "UO5obQt8pRJn",
        "outputId": "cb186219-adf1-43f3-c905-ca766349f84a"
      },
      "execution_count": 10,
      "outputs": [
        {
          "output_type": "stream",
          "name": "stdout",
          "text": [
            "   ID  Gender   Salary Country Company\n",
            "0   1    Male  15000.0   India  Google\n",
            "2   3  Female  25000.0   India  Google\n"
          ]
        }
      ]
    },
    {
      "cell_type": "code",
      "source": [],
      "metadata": {
        "id": "GFk5j5r3rjTc"
      },
      "execution_count": null,
      "outputs": []
    },
    {
      "cell_type": "markdown",
      "source": [
        "**IMPORTANT FUNCTION FOR HANDLING MISSING DATA IN PANDAS**"
      ],
      "metadata": {
        "id": "eg229ykLpi22"
      }
    },
    {
      "cell_type": "code",
      "source": [
        "data_string = '''ID,Gender,Salary,Country,Company\n",
        "1,Male,15000,India,Google\n",
        "2,Female,45000,China,NaN\n",
        "3,Female,25000,India,Google\n",
        "4,NaN,NaN,Australia,Google\n",
        "5,Male,NaN,India,Google\n",
        "6,Male,54000,NaN,Alibaba\n",
        "7,NaN,74000,China,NaN\n",
        "8,Male,14000,Australia,NaN\n",
        "9,Female,15000,NaN,NaN\n",
        "10,Male,33000,Australia,NaN'''\n",
        "\n",
        "with open('salary.csv', 'w') as out:\n",
        "    out.write(data_string)\n",
        "\n",
        "df=pd.read_csv('/content/salary.csv')\n",
        "print('MISSING DATA \\n',df.isnull())"
      ],
      "metadata": {
        "colab": {
          "base_uri": "https://localhost:8080/"
        },
        "id": "DOZmuuTxpppY",
        "outputId": "57ebc936-3e79-466a-81f3-82840cc9cefc"
      },
      "execution_count": 13,
      "outputs": [
        {
          "output_type": "stream",
          "name": "stdout",
          "text": [
            "MISSING DATA \n",
            "       ID  Gender  Salary  Country  Company\n",
            "0  False   False   False    False    False\n",
            "1  False   False   False    False     True\n",
            "2  False   False   False    False    False\n",
            "3  False    True    True    False    False\n",
            "4  False   False    True    False    False\n",
            "5  False   False   False     True    False\n",
            "6  False    True   False    False     True\n",
            "7  False   False   False    False     True\n",
            "8  False   False   False     True     True\n",
            "9  False   False   False    False     True\n"
          ]
        }
      ]
    },
    {
      "cell_type": "code",
      "source": [
        "gender = pd.isnull(df[\"Gender\"])\n",
        "gender    "
      ],
      "metadata": {
        "colab": {
          "base_uri": "https://localhost:8080/"
        },
        "id": "vKPsX7l4qfnw",
        "outputId": "a94f6824-eebb-4a96-f80b-87087e7ff166"
      },
      "execution_count": 14,
      "outputs": [
        {
          "output_type": "execute_result",
          "data": {
            "text/plain": [
              "0    False\n",
              "1    False\n",
              "2    False\n",
              "3     True\n",
              "4    False\n",
              "5    False\n",
              "6     True\n",
              "7    False\n",
              "8    False\n",
              "9    False\n",
              "Name: Gender, dtype: bool"
            ]
          },
          "metadata": {},
          "execution_count": 14
        }
      ]
    },
    {
      "cell_type": "markdown",
      "source": [
        "**notnull()**"
      ],
      "metadata": {
        "id": "Pl4pRJVaqs1f"
      }
    },
    {
      "cell_type": "code",
      "source": [
        "data_string = '''ID,Gender,Salary,Country,Company\n",
        "1,Male,15000,India,Google\n",
        "2,Female,45000,China,NaN\n",
        "3,Female,25000,India,Google\n",
        "4,NaN,NaN,Australia,Google\n",
        "5,Male,NaN,India,Google\n",
        "6,Male,54000,NaN,Alibaba\n",
        "7,NaN,74000,China,NaN\n",
        "8,Male,14000,Australia,NaN\n",
        "9,Female,15000,NaN,NaN\n",
        "10,Male,33000,Australia,NaN'''\n",
        "\n",
        "with open('salary.csv', 'w') as out:\n",
        "    out.write(data_string)\n",
        "\n",
        "df=pd.read_csv('/content/salary.csv')\n",
        "print('non missing data \\n',df.notnull())"
      ],
      "metadata": {
        "colab": {
          "base_uri": "https://localhost:8080/"
        },
        "id": "aAyENDwqqwZG",
        "outputId": "eef1bc6f-4f37-4b85-80b7-91f0502085b6"
      },
      "execution_count": 15,
      "outputs": [
        {
          "output_type": "stream",
          "name": "stdout",
          "text": [
            "non missing data \n",
            "      ID  Gender  Salary  Country  Company\n",
            "0  True    True    True     True     True\n",
            "1  True    True    True     True    False\n",
            "2  True    True    True     True     True\n",
            "3  True   False   False     True     True\n",
            "4  True    True   False     True     True\n",
            "5  True    True    True    False     True\n",
            "6  True   False    True     True    False\n",
            "7  True    True    True     True    False\n",
            "8  True    True    True    False    False\n",
            "9  True    True    True     True    False\n"
          ]
        }
      ]
    },
    {
      "cell_type": "markdown",
      "source": [
        "**dropna()**"
      ],
      "metadata": {
        "id": "jfJa7bJPrR7H"
      }
    },
    {
      "cell_type": "code",
      "source": [
        "data_string = '''ID,Gender,Salary,Country,Company\n",
        "1,Male,15000,India,Google\n",
        "2,Female,45000,China,NaN\n",
        "3,Female,25000,India,Google\n",
        "4,NaN,NaN,Australia,Google\n",
        "5,Male,NaN,India,Google\n",
        "6,Male,54000,NaN,Alibaba\n",
        "7,NaN,74000,China,NaN\n",
        "8,Male,14000,Australia,NaN\n",
        "9,Female,15000,NaN,NaN\n",
        "10,Male,33000,Australia,NaN'''\n",
        "\n",
        "with open('salary.csv', 'w') as out:\n",
        "    out.write(data_string)\n",
        "\n",
        "df=pd.read_csv('/content/salary.csv')\n",
        "print('Drop Missing Company Data\\n', df.Company.dropna())\n",
        "df.dropna()"
      ],
      "metadata": {
        "colab": {
          "base_uri": "https://localhost:8080/",
          "height": 234
        },
        "id": "GpjRWn-YrcOg",
        "outputId": "b968b060-e775-4235-d350-0455b45ae6dd"
      },
      "execution_count": 16,
      "outputs": [
        {
          "output_type": "stream",
          "name": "stdout",
          "text": [
            "Drop Missing Company Data\n",
            " 0     Google\n",
            "2     Google\n",
            "3     Google\n",
            "4     Google\n",
            "5    Alibaba\n",
            "Name: Company, dtype: object\n"
          ]
        },
        {
          "output_type": "execute_result",
          "data": {
            "text/plain": [
              "   ID  Gender   Salary Country Company\n",
              "0   1    Male  15000.0   India  Google\n",
              "2   3  Female  25000.0   India  Google"
            ],
            "text/html": [
              "\n",
              "  <div id=\"df-982ecf60-73aa-4c33-858d-c0625ff7ea6a\">\n",
              "    <div class=\"colab-df-container\">\n",
              "      <div>\n",
              "<style scoped>\n",
              "    .dataframe tbody tr th:only-of-type {\n",
              "        vertical-align: middle;\n",
              "    }\n",
              "\n",
              "    .dataframe tbody tr th {\n",
              "        vertical-align: top;\n",
              "    }\n",
              "\n",
              "    .dataframe thead th {\n",
              "        text-align: right;\n",
              "    }\n",
              "</style>\n",
              "<table border=\"1\" class=\"dataframe\">\n",
              "  <thead>\n",
              "    <tr style=\"text-align: right;\">\n",
              "      <th></th>\n",
              "      <th>ID</th>\n",
              "      <th>Gender</th>\n",
              "      <th>Salary</th>\n",
              "      <th>Country</th>\n",
              "      <th>Company</th>\n",
              "    </tr>\n",
              "  </thead>\n",
              "  <tbody>\n",
              "    <tr>\n",
              "      <th>0</th>\n",
              "      <td>1</td>\n",
              "      <td>Male</td>\n",
              "      <td>15000.0</td>\n",
              "      <td>India</td>\n",
              "      <td>Google</td>\n",
              "    </tr>\n",
              "    <tr>\n",
              "      <th>2</th>\n",
              "      <td>3</td>\n",
              "      <td>Female</td>\n",
              "      <td>25000.0</td>\n",
              "      <td>India</td>\n",
              "      <td>Google</td>\n",
              "    </tr>\n",
              "  </tbody>\n",
              "</table>\n",
              "</div>\n",
              "      <button class=\"colab-df-convert\" onclick=\"convertToInteractive('df-982ecf60-73aa-4c33-858d-c0625ff7ea6a')\"\n",
              "              title=\"Convert this dataframe to an interactive table.\"\n",
              "              style=\"display:none;\">\n",
              "        \n",
              "  <svg xmlns=\"http://www.w3.org/2000/svg\" height=\"24px\"viewBox=\"0 0 24 24\"\n",
              "       width=\"24px\">\n",
              "    <path d=\"M0 0h24v24H0V0z\" fill=\"none\"/>\n",
              "    <path d=\"M18.56 5.44l.94 2.06.94-2.06 2.06-.94-2.06-.94-.94-2.06-.94 2.06-2.06.94zm-11 1L8.5 8.5l.94-2.06 2.06-.94-2.06-.94L8.5 2.5l-.94 2.06-2.06.94zm10 10l.94 2.06.94-2.06 2.06-.94-2.06-.94-.94-2.06-.94 2.06-2.06.94z\"/><path d=\"M17.41 7.96l-1.37-1.37c-.4-.4-.92-.59-1.43-.59-.52 0-1.04.2-1.43.59L10.3 9.45l-7.72 7.72c-.78.78-.78 2.05 0 2.83L4 21.41c.39.39.9.59 1.41.59.51 0 1.02-.2 1.41-.59l7.78-7.78 2.81-2.81c.8-.78.8-2.07 0-2.86zM5.41 20L4 18.59l7.72-7.72 1.47 1.35L5.41 20z\"/>\n",
              "  </svg>\n",
              "      </button>\n",
              "      \n",
              "  <style>\n",
              "    .colab-df-container {\n",
              "      display:flex;\n",
              "      flex-wrap:wrap;\n",
              "      gap: 12px;\n",
              "    }\n",
              "\n",
              "    .colab-df-convert {\n",
              "      background-color: #E8F0FE;\n",
              "      border: none;\n",
              "      border-radius: 50%;\n",
              "      cursor: pointer;\n",
              "      display: none;\n",
              "      fill: #1967D2;\n",
              "      height: 32px;\n",
              "      padding: 0 0 0 0;\n",
              "      width: 32px;\n",
              "    }\n",
              "\n",
              "    .colab-df-convert:hover {\n",
              "      background-color: #E2EBFA;\n",
              "      box-shadow: 0px 1px 2px rgba(60, 64, 67, 0.3), 0px 1px 3px 1px rgba(60, 64, 67, 0.15);\n",
              "      fill: #174EA6;\n",
              "    }\n",
              "\n",
              "    [theme=dark] .colab-df-convert {\n",
              "      background-color: #3B4455;\n",
              "      fill: #D2E3FC;\n",
              "    }\n",
              "\n",
              "    [theme=dark] .colab-df-convert:hover {\n",
              "      background-color: #434B5C;\n",
              "      box-shadow: 0px 1px 3px 1px rgba(0, 0, 0, 0.15);\n",
              "      filter: drop-shadow(0px 1px 2px rgba(0, 0, 0, 0.3));\n",
              "      fill: #FFFFFF;\n",
              "    }\n",
              "  </style>\n",
              "\n",
              "      <script>\n",
              "        const buttonEl =\n",
              "          document.querySelector('#df-982ecf60-73aa-4c33-858d-c0625ff7ea6a button.colab-df-convert');\n",
              "        buttonEl.style.display =\n",
              "          google.colab.kernel.accessAllowed ? 'block' : 'none';\n",
              "\n",
              "        async function convertToInteractive(key) {\n",
              "          const element = document.querySelector('#df-982ecf60-73aa-4c33-858d-c0625ff7ea6a');\n",
              "          const dataTable =\n",
              "            await google.colab.kernel.invokeFunction('convertToInteractive',\n",
              "                                                     [key], {});\n",
              "          if (!dataTable) return;\n",
              "\n",
              "          const docLinkHtml = 'Like what you see? Visit the ' +\n",
              "            '<a target=\"_blank\" href=https://colab.research.google.com/notebooks/data_table.ipynb>data table notebook</a>'\n",
              "            + ' to learn more about interactive tables.';\n",
              "          element.innerHTML = '';\n",
              "          dataTable['output_type'] = 'display_data';\n",
              "          await google.colab.output.renderOutput(dataTable, element);\n",
              "          const docLink = document.createElement('div');\n",
              "          docLink.innerHTML = docLinkHtml;\n",
              "          element.appendChild(docLink);\n",
              "        }\n",
              "      </script>\n",
              "    </div>\n",
              "  </div>\n",
              "  "
            ]
          },
          "metadata": {},
          "execution_count": 16
        }
      ]
    },
    {
      "cell_type": "code",
      "source": [
        "df.dropna(axis = 1)\n",
        "print(df)"
      ],
      "metadata": {
        "colab": {
          "base_uri": "https://localhost:8080/"
        },
        "id": "OpI3dP9lsJDV",
        "outputId": "0a1465cc-82d7-45ea-c741-656ac7d4bd21"
      },
      "execution_count": 17,
      "outputs": [
        {
          "output_type": "stream",
          "name": "stdout",
          "text": [
            "   ID  Gender   Salary    Country  Company\n",
            "0   1    Male  15000.0      India   Google\n",
            "1   2  Female  45000.0      China      NaN\n",
            "2   3  Female  25000.0      India   Google\n",
            "3   4     NaN      NaN  Australia   Google\n",
            "4   5    Male      NaN      India   Google\n",
            "5   6    Male  54000.0        NaN  Alibaba\n",
            "6   7     NaN  74000.0      China      NaN\n",
            "7   8    Male  14000.0  Australia      NaN\n",
            "8   9  Female  15000.0        NaN      NaN\n",
            "9  10    Male  33000.0  Australia      NaN\n"
          ]
        }
      ]
    },
    {
      "cell_type": "code",
      "source": [
        "new_df = df.dropna(axis = 0, how ='any')\n",
        "print(new_df)"
      ],
      "metadata": {
        "colab": {
          "base_uri": "https://localhost:8080/"
        },
        "id": "Ai-xJF4f2I6V",
        "outputId": "f7b66adb-7c40-4683-860f-e7344430b194"
      },
      "execution_count": 18,
      "outputs": [
        {
          "output_type": "stream",
          "name": "stdout",
          "text": [
            "   ID  Gender   Salary Country Company\n",
            "0   1    Male  15000.0   India  Google\n",
            "2   3  Female  25000.0   India  Google\n"
          ]
        }
      ]
    },
    {
      "cell_type": "markdown",
      "source": [
        "**fillna()**"
      ],
      "metadata": {
        "id": "F_Bhfpqj21zM"
      }
    },
    {
      "cell_type": "code",
      "source": [
        "data_string = '''ID,Gender,Salary,Country,Company\n",
        "1,Male,15000,India,Google\n",
        "2,Female,45000,China,NaN\n",
        "3,Female,25000,India,Google\n",
        "4,NaN,NaN,Australia,Google\n",
        "5,Male,NaN,India,Google\n",
        "6,Male,54000,NaN,Alibaba\n",
        "7,NaN,74000,China,NaN\n",
        "8,Male,14000,Australia,NaN\n",
        "9,Female,15000,NaN,NaN\n",
        "10,Male,33000,Australia,NaN'''\n",
        "\n",
        "with open('salary.csv', 'w') as out:\n",
        "    out.write(data_string)\n",
        "\n",
        "# Import the dataset\n",
        "df = pd.read_csv('/content/salary.csv')\n",
        "\n",
        "print('Fill Missing Data\\n', df.fillna(0))"
      ],
      "metadata": {
        "colab": {
          "base_uri": "https://localhost:8080/"
        },
        "id": "ZHqvjPT7261U",
        "outputId": "4c4cb9e8-f56b-4397-8825-95d80cd0ccc8"
      },
      "execution_count": 19,
      "outputs": [
        {
          "output_type": "stream",
          "name": "stdout",
          "text": [
            "Fill Missing Data\n",
            "    ID  Gender   Salary    Country  Company\n",
            "0   1    Male  15000.0      India   Google\n",
            "1   2  Female  45000.0      China        0\n",
            "2   3  Female  25000.0      India   Google\n",
            "3   4       0      0.0  Australia   Google\n",
            "4   5    Male      0.0      India   Google\n",
            "5   6    Male  54000.0          0  Alibaba\n",
            "6   7       0  74000.0      China        0\n",
            "7   8    Male  14000.0  Australia        0\n",
            "8   9  Female  15000.0          0        0\n",
            "9  10    Male  33000.0  Australia        0\n"
          ]
        }
      ]
    },
    {
      "cell_type": "code",
      "source": [
        "print('Fill Missing Data\\n', df.fillna(method ='pad'))"
      ],
      "metadata": {
        "colab": {
          "base_uri": "https://localhost:8080/"
        },
        "id": "OIo_1Rzp2_-M",
        "outputId": "8c1df18d-c86d-4e39-cada-91d0d9136ef1"
      },
      "execution_count": 20,
      "outputs": [
        {
          "output_type": "stream",
          "name": "stdout",
          "text": [
            "Fill Missing Data\n",
            "    ID  Gender   Salary    Country  Company\n",
            "0   1    Male  15000.0      India   Google\n",
            "1   2  Female  45000.0      China   Google\n",
            "2   3  Female  25000.0      India   Google\n",
            "3   4  Female  25000.0  Australia   Google\n",
            "4   5    Male  25000.0      India   Google\n",
            "5   6    Male  54000.0      India  Alibaba\n",
            "6   7    Male  74000.0      China  Alibaba\n",
            "7   8    Male  14000.0  Australia  Alibaba\n",
            "8   9  Female  15000.0  Australia  Alibaba\n",
            "9  10    Male  33000.0  Australia  Alibaba\n"
          ]
        }
      ]
    },
    {
      "cell_type": "code",
      "source": [
        "print('Fill Missing Data\\n', df.fillna(method ='bfill'))\n"
      ],
      "metadata": {
        "colab": {
          "base_uri": "https://localhost:8080/"
        },
        "id": "ekzZvzYr3NOk",
        "outputId": "5ef57b5c-6cd3-489e-a92f-256f659f3559"
      },
      "execution_count": 21,
      "outputs": [
        {
          "output_type": "stream",
          "name": "stdout",
          "text": [
            "Fill Missing Data\n",
            "    ID  Gender   Salary    Country  Company\n",
            "0   1    Male  15000.0      India   Google\n",
            "1   2  Female  45000.0      China   Google\n",
            "2   3  Female  25000.0      India   Google\n",
            "3   4    Male  54000.0  Australia   Google\n",
            "4   5    Male  54000.0      India   Google\n",
            "5   6    Male  54000.0      China  Alibaba\n",
            "6   7    Male  74000.0      China      NaN\n",
            "7   8    Male  14000.0  Australia      NaN\n",
            "8   9  Female  15000.0  Australia      NaN\n",
            "9  10    Male  33000.0  Australia      NaN\n"
          ]
        }
      ]
    },
    {
      "cell_type": "code",
      "source": [
        "print('Fill Missing Data\\n', df[\"Gender\"].fillna(\"No Gender\", inplace = True))\n"
      ],
      "metadata": {
        "colab": {
          "base_uri": "https://localhost:8080/"
        },
        "id": "fQwGCH4C3TmM",
        "outputId": "7a773acb-86bd-4eae-843b-5df9b851e6a4"
      },
      "execution_count": 23,
      "outputs": [
        {
          "output_type": "stream",
          "name": "stdout",
          "text": [
            "Fill Missing Data\n",
            " None\n"
          ]
        }
      ]
    },
    {
      "cell_type": "code",
      "source": [
        "#replace\n",
        "print(df.replace(to_replace = 'Google', value = 'Microsoft'))\n"
      ],
      "metadata": {
        "colab": {
          "base_uri": "https://localhost:8080/"
        },
        "id": "zUuM4bCH3Z2E",
        "outputId": "00b81360-0c0c-473d-cf01-8b500707418a"
      },
      "execution_count": 24,
      "outputs": [
        {
          "output_type": "stream",
          "name": "stdout",
          "text": [
            "   ID     Gender   Salary    Country    Company\n",
            "0   1       Male  15000.0      India  Microsoft\n",
            "1   2     Female  45000.0      China        NaN\n",
            "2   3     Female  25000.0      India  Microsoft\n",
            "3   4  No Gender      NaN  Australia  Microsoft\n",
            "4   5       Male      NaN      India  Microsoft\n",
            "5   6       Male  54000.0        NaN    Alibaba\n",
            "6   7  No Gender  74000.0      China        NaN\n",
            "7   8       Male  14000.0  Australia        NaN\n",
            "8   9     Female  15000.0        NaN        NaN\n",
            "9  10       Male  33000.0  Australia        NaN\n"
          ]
        }
      ]
    },
    {
      "cell_type": "markdown",
      "source": [
        "**interpolate()**"
      ],
      "metadata": {
        "id": "8_6vvS_X3kI1"
      }
    },
    {
      "cell_type": "code",
      "source": [
        "\n",
        "print(df.interpolate(method ='linear', limit_direction ='forward'))\n"
      ],
      "metadata": {
        "colab": {
          "base_uri": "https://localhost:8080/"
        },
        "id": "YjBsJyt23lks",
        "outputId": "24ff7f96-6643-4d95-9a4e-4a8ae4f841de"
      },
      "execution_count": 25,
      "outputs": [
        {
          "output_type": "stream",
          "name": "stdout",
          "text": [
            "   ID     Gender        Salary    Country  Company\n",
            "0   1       Male  15000.000000      India   Google\n",
            "1   2     Female  45000.000000      China      NaN\n",
            "2   3     Female  25000.000000      India   Google\n",
            "3   4  No Gender  34666.666667  Australia   Google\n",
            "4   5       Male  44333.333333      India   Google\n",
            "5   6       Male  54000.000000        NaN  Alibaba\n",
            "6   7  No Gender  74000.000000      China      NaN\n",
            "7   8       Male  14000.000000  Australia      NaN\n",
            "8   9     Female  15000.000000        NaN      NaN\n",
            "9  10       Male  33000.000000  Australia      NaN\n"
          ]
        }
      ]
    },
    {
      "cell_type": "code",
      "source": [],
      "metadata": {
        "id": "PazXrgLq301V"
      },
      "execution_count": null,
      "outputs": []
    }
  ]
}